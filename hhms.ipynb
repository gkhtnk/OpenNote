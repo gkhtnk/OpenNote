{
 "cells": [
  {
   "cell_type": "markdown",
   "metadata": {
    "slideshow": {
     "slide_type": "slide"
    }
   },
   "source": [
    "# Hodkin-Huxley方程式"
   ]
  },
  {
   "cell_type": "markdown",
   "metadata": {
    "slideshow": {
     "slide_type": "skip"
    }
   },
   "source": [
    "Hodkin-Huxley方程式では, 膜電位$V$のダイナミクスを全膜電流$I_m(t)$, 時間$t$, mゲートの開確率$m$, hゲートの開確率$h$, nゲートの開確率$n$, の6つの変数を次に示す4つの微分方程式および6つの関係式で表す.  \n",
    "$$  \\begin{eqnarray}\n",
    "\\bar{C}_m\\frac{dV}{dt} &=& I_m(t)\n",
    "        - \\bar{g}_{\\mathrm Na}m(V, t)^3h(V, t)(V-\\bar{E}_{\\mathrm Na})\n",
    "        - \\bar{g}_{\\mathrm K}n(V, t)^4(V-\\bar{E}_{\\mathrm K})\n",
    "        - \\bar{g}_{\\mathrm l}(V-\\bar{E}_{\\mathrm l})\n",
    "\\\\\n",
    "\\frac{\\mathrm{d}}{\\mathrm{d}t}m(V, t) &=& \\alpha_m(V)(1-m(V, t)) - \\beta_m(V)m(V, t)\n",
    "\\\\\n",
    "\\frac{\\mathrm{d}}{\\mathrm{d}t}h(V, t) &=& \\alpha_h(V)(1-h(V, t)) - \\beta_h(V)h(V, t)\n",
    "\\\\\n",
    "\\frac{\\mathrm{d}}{\\mathrm{d}t}n(V, t) &=& \\alpha_n(V)(1-n(V, t)) - \\beta_n(V)n(V, t)\n",
    "\\\\\n",
    "\\alpha_m(V) &=& \\frac{0.1(25-V)}{\\exp{\\left(\\frac{25-V}{10}\\right)}-1}\\hspace{16pt}\n",
    "\\beta_m(V) = 4\\exp{\\left(-\\frac{V}{18}\\right)}\n",
    "\\\\\n",
    "\\alpha_h(V)&=& 0.07\\exp{\\left(-\\frac{V}{20}\\right)}\\hspace{16pt}\n",
    "\\beta_h(V) = \\frac{1}{\\exp{\\left(\\frac{30-V}{10}\\right)}-1}\n",
    "\\\\\n",
    "\\alpha_n(V) &=& \\frac{0.01(10-V)}{\\exp{\\left(\\frac{10-V}{10}\\right)}-1}\\hspace{16pt}\n",
    "\\beta_n(V) = 0.125\\exp{\\left(-\\frac{V}{80}\\right)}\n",
    "\\\\\n",
    "\\end{eqnarray}\n",
    "$$\n",
    "  \n",
    "ただし, 定数として次の値を用いる.   \n",
    "$$\\begin{eqnarray}\n",
    "\\bar{C}_m &=& 1.0\\ ~\n",
    "\\bar{g}_{\\mathrm Na} &=& 120\\ ~\n",
    "\\bar{E}_{\\mathrm Na} &=& 50.0\\ ~\n",
    "\\bar{g}_{\\mathrm K} &=& 36\\ ~\n",
    "\\bar{E}_{\\mathrm K} &=& -77\\ ~\n",
    "\\bar{g}_{\\mathrm l} &=& 0.3\\ ~\n",
    "\\bar{E}_{\\mathrm l} &=& -54.387\n",
    "\\end{eqnarray}$$"
   ]
  },
  {
   "cell_type": "markdown",
   "metadata": {},
   "source": [
    "Hodkin-Huxley方程式では, 膜電位$V$のダイナミクスを全膜電流$I_m(t)$, 時間$t$, mゲートの開確率$m$, hゲートの開確率$h$, nゲートの開確率$n$, の6つの変数を次に示す4つの微分方程式および6つの関係式で表す.  \n",
    "$$\n",
    "\\bar{C}_m\\frac{dV}{dt} = I_m(t)\n",
    "        - \\bar{g}_{\\mathrm Na}m(V, t)^3h(V, t)(V-\\bar{E}_{\\mathrm Na})\n",
    "        - \\bar{g}_{\\mathrm K}n(V, t)^4(V-\\bar{E}_{\\mathrm K})\n",
    "        - \\bar{g}_{\\mathrm l}(V-\\bar{E}_{\\mathrm l})\n",
    "\\\\\n",
    "\\frac{\\mathrm{d}}{\\mathrm{d}t}m(V, t) = \\alpha_m(V)(1-m(V, t)) - \\beta_m(V)m(V, t)\n",
    "\\\\\n",
    "\\frac{\\mathrm{d}}{\\mathrm{d}t}h(V, t) = \\alpha_h(V)(1-h(V, t)) - \\beta_h(V)h(V, t)\n",
    "\\\\\n",
    "\\frac{\\mathrm{d}}{\\mathrm{d}t}n(V, t) = \\alpha_n(V)(1-n(V, t)) - \\beta_n(V)n(V, t)\n",
    "\\\\\n",
    "\\alpha_m(V) = \\frac{0.1(25-V)}{\\exp{\\left(\\frac{25-V}{10}\\right)}-1}\\hspace{16pt}\n",
    "\\beta_m(V) = 4\\exp{\\left(-\\frac{V}{18}\\right)}\n",
    "\\\\\n",
    "\\alpha_h(V) = 0.07\\exp{\\left(-\\frac{V}{20}\\right)}\\hspace{16pt}\n",
    "\\beta_h(V) = \\frac{1}{\\exp{\\left(\\frac{30-V}{10}\\right)}-1}\n",
    "\\\\\n",
    "\\alpha_n(V) = \\frac{0.01(10-V)}{\\exp{\\left(\\frac{10-V}{10}\\right)}-1}\\hspace{16pt}\n",
    "\\beta_n(V) = 0.125\\exp{\\left(-\\frac{V}{80}\\right)}\n",
    "$$\n",
    "  \n",
    "ただし, 定数として次の値を用いる.   \n",
    "$$\n",
    "\\bar{C}_m = 1.0\\\n",
    "\\bar{g}_{\\mathrm Na} = 120\\\n",
    "\\bar{E}_{\\mathrm Na} = 50.0\\\n",
    "\\bar{g}_{\\mathrm K} = 36\\\n",
    "\\bar{E}_{\\mathrm K} = -77\n",
    "\\bar{g}_{\\mathrm l} = 0.3\\\n",
    "\\bar{E}_{\\mathrm l} = -54.387\n",
    "$$"
   ]
  },
  {
   "cell_type": "code",
   "execution_count": 1,
   "metadata": {
    "collapsed": false,
    "slideshow": {
     "slide_type": "subslide"
    }
   },
   "outputs": [],
   "source": [
    "import numpy as np\n",
    "import matplotlib.pyplot as plt\n",
    "%matplotlib inline"
   ]
  },
  {
   "cell_type": "code",
   "execution_count": 2,
   "metadata": {
    "collapsed": false,
    "slideshow": {
     "slide_type": "slide"
    }
   },
   "outputs": [],
   "source": [
    "# 定数の設定\n",
    "CM = 1.0\n",
    "\n",
    "dt = 0.01\n",
    "t_end = 100\n",
    "t = np.arange(0.0, t_end, dt, dtype=np.float64)\n",
    "NUM = t.size\n",
    "V = np.zeros_like(t)"
   ]
  },
  {
   "cell_type": "code",
   "execution_count": 3,
   "metadata": {
    "collapsed": false,
    "slideshow": {
     "slide_type": "slide"
    }
   },
   "outputs": [],
   "source": [
    "# Naチャネル\n",
    "class chN():\n",
    "    def __init__(self, V0, NUM):\n",
    "        self.G = 120.0\n",
    "        self.E = 115.0\n",
    "        self.m = np.zeros(NUM, dtype=np.float64)\n",
    "        self.h = np.ones(NUM, dtype=np.float64)\n",
    "        self.m[0] = self.am(V0)/(self.am(V0)+self.bm(V0))\n",
    "        self.h[0] = self.ah(V0)/(self.ah(V0)+self.bh(V0))\n",
    "        \n",
    "    def am(self, V):\n",
    "        return 0.1*(25.-V) / (np.exp((25-V)/10.)-1.)\n",
    "    def bm(self, V):\n",
    "        return 4.*np.exp(-V/18.)\n",
    "\n",
    "    def ah(self, V):\n",
    "        return 0.07*np.exp(-V/20.)\n",
    "    def bh(self, V):\n",
    "        return 1. / (np.exp((30.-V)/10.)+1.)\n",
    "    \n",
    "    def dm(self, V, t, i):\n",
    "        return self.am(V)*(1.-self.m[i]) - self.bm(V)*self.m[i]\n",
    "    \n",
    "    def dh(self, V, t, i):\n",
    "        return self.ah(V)*(1.-self.h[i]) - self.bh(V)*self.h[i]\n",
    "    \n",
    "    def re(self, V, t, i):\n",
    "        self.m[i+1] = self.m[i] + self.dm(V, t, i)*dt\n",
    "        self.h[i+1] = self.h[i] + self.dh(V, t, i)*dt\n",
    "        \n",
    "    def I(self, V, t, i):\n",
    "        return self.G*(self.m[i]**3)*(self.h[i])*(V-self.E)"
   ]
  },
  {
   "cell_type": "code",
   "execution_count": 4,
   "metadata": {
    "collapsed": true,
    "slideshow": {
     "slide_type": "subslide"
    }
   },
   "outputs": [],
   "source": [
    "# Kイオンチャネル\n",
    "class chK():\n",
    "    def __init__(self, V0, NUM):\n",
    "        self.G = 36.0\n",
    "        self.E = -12.0\n",
    "        self.n = np.ones(NUM, dtype=np.float64)\n",
    "        self.n[0] = self.an(V0)/(self.an(V0)+self.bn(V0))\n",
    "    \n",
    "    def an(self, V):\n",
    "        return 0.01*(10.-V) / (np.exp((10.-V)/10.)-1.)\n",
    "    def bn(self, V):\n",
    "        return 0.125*np.exp(-V/80.)\n",
    "    \n",
    "    def dn(self, V, t, i):\n",
    "        return self.an(V)*(1.-self.n[i]) - self.bn(V)*self.n[i]\n",
    "    \n",
    "    def re(self, V, t, i):\n",
    "        self.n[i+1] = self.n[i] + self.dn(V, t, i)*dt\n",
    "    \n",
    "    def I(self, V, t, i):\n",
    "        return self.G*(self.n[i]**4)*(V-self.E)"
   ]
  },
  {
   "cell_type": "code",
   "execution_count": 5,
   "metadata": {
    "collapsed": true,
    "slideshow": {
     "slide_type": "subslide"
    }
   },
   "outputs": [],
   "source": [
    "# リークチャネル\n",
    "class chL():\n",
    "    def __init__(self):\n",
    "        self.G = 0.3\n",
    "        self.E = 10.613\n",
    "    \n",
    "    def I(self, V, t, i):\n",
    "        return self.G*(V-self.E)"
   ]
  },
  {
   "cell_type": "code",
   "execution_count": 6,
   "metadata": {
    "collapsed": false,
    "slideshow": {
     "slide_type": "slide"
    }
   },
   "outputs": [],
   "source": [
    "# 刺激の設定\n",
    "st_1s = 10\n",
    "st_1e = 30\n",
    "st_2s = 60\n",
    "st_2e = 80\n",
    "stm = 6.0\n",
    "Is = np.zeros_like(t)\n",
    "for i in range(NUM):\n",
    "    if st_1s < t[i] < st_1e:\n",
    "        Is[i] = stm\n",
    "    elif st_2s < t[i] < st_2e:\n",
    "        Is[i] = stm*0.33"
   ]
  },
  {
   "cell_type": "code",
   "execution_count": 7,
   "metadata": {
    "collapsed": false,
    "slideshow": {
     "slide_type": "subslide"
    }
   },
   "outputs": [],
   "source": [
    "# 初期化および実行\n",
    "Im = np.zeros_like(t)\n",
    "Ic = np.zeros_like(t)\n",
    "N = chN(V[0], NUM)\n",
    "K = chK(V[0], NUM)\n",
    "L = chL()\n",
    "for i in range(NUM-1):\n",
    "    N.re(V[i], t[i], i)\n",
    "    K.re(V[i], t[i], i)\n",
    "    Ic[i] = N.I(V[i], t[i], i) + K.I(V[i], t[i], i) + L.I(V[i], t[i], i)\n",
    "    Im[i] = Is[i] - Ic[i]\n",
    "    V[i+1] = V[i] + Im[i]*dt/CM"
   ]
  },
  {
   "cell_type": "code",
   "execution_count": 10,
   "metadata": {
    "collapsed": false,
    "slideshow": {
     "slide_type": "slide"
    }
   },
   "outputs": [
    {
     "data": {
      "image/png": "[encoded data removed]",
      "text/plain": [
       "<matplotlib.figure.Figure at 0x7a08d30>"
      ]
     },
     "metadata": {},
     "output_type": "display_data"
    }
   ],
   "source": [
    "plt.subplots(figsize=(16, 12))\n",
    "plt.subplot(311)\n",
    "plt.title(\"V\")\n",
    "plt.plot(t, V-65, \"#FF44FF\", linewidth=2, alpha=0.75)\n",
    "right = plt.twinx()\n",
    "right.plot(t, Is, \"#888888\", linewidth=2, alpha=0.75)\n",
    "plt.fill_between(t, Is, where=Is>0, color=\"#FFFF44\", alpha=0.3)\n",
    "\n",
    "plt.subplot(312)\n",
    "plt.title(\"Ic\")\n",
    "plt.plot(t, Ic, \"#44FFFF\", linewidth=2, alpha=0.75)\n",
    "right = plt.twinx()\n",
    "right.plot(t, Is, \"#888888\", linewidth=2, alpha=0.75)\n",
    "plt.fill_between(t, Is, where=Is>0, color=\"#FFFF44\", alpha=0.3)\n",
    "\n",
    "plt.subplot(313)\n",
    "plt.title(\"Gate State(Open Probability)\")\n",
    "plt.plot(t, N.m, \"#FFAAAA\", linewidth=6, alpha=0.7)\n",
    "plt.plot(t, N.h, \"#AAFFAA\", linewidth=6, alpha=0.7)\n",
    "plt.plot(t, K.n, \"#AAAAFF\", linewidth=6, alpha=0.7)\n",
    "right = plt.twinx()\n",
    "right.plot(t, Is, \"#888888\", linewidth=6, alpha=0.5)\n",
    "plt.fill_between(t, Is, where=Is>0, color=\"#FFFF44\", alpha=0.25)\n",
    "\n",
    "plt.show()"
   ]
  }
 ],
 "metadata": {
  "celltoolbar": "Slideshow",
  "kernelspec": {
   "display_name": "Python 2",
   "language": "python",
   "name": "python2"
  },
  "language_info": {
   "codemirror_mode": {
    "name": "ipython",
    "version": 2
   },
   "file_extension": ".py",
   "mimetype": "text/x-python",
   "name": "python",
   "nbconvert_exporter": "python",
   "pygments_lexer": "ipython2",
   "version": "2.7.11"
  }
 },
 "nbformat": 4,
 "nbformat_minor": 0
}
